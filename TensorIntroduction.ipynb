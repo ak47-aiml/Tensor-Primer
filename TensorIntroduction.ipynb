{
 "cells": [
  {
   "cell_type": "markdown",
   "metadata": {},
   "source": [
    "# TensorFlow Introduction"
   ]
  },
  {
   "cell_type": "markdown",
   "metadata": {},
   "source": [
    "<font color='steelblue'>\n",
    "\n",
    "<font size = 5>\n",
    "    <b>TensorFlow (Tensor) Examples</b><br><br>\n",
    "    Number of examples of using Tensors in tensorflow<br><br>\n",
    "</font>\n",
    "</font>\n",
    "\n",
    "<font color = 'grey'>\n",
    "<font size = 4>\n",
    "    \n",
    "**Following examples are included in the processing:**\n",
    "\n",
    "- Basic Tensors - different ranks\n",
    "- Tensor shapes\n",
    "- Tensor Indexing\n",
    "- Resphaping Tensors\n",
    "- Operations on Tensors\n",
    "</font>\n",
    "\n",
    "</font>"
   ]
  },
  {
   "cell_type": "code",
   "execution_count": null,
   "metadata": {},
   "outputs": [],
   "source": [
    "import tensorflow as tf\n",
    "import numpy as np"
   ]
  },
  {
   "cell_type": "code",
   "execution_count": null,
   "metadata": {},
   "outputs": [],
   "source": [
    "tf.__version__"
   ]
  },
  {
   "cell_type": "markdown",
   "metadata": {},
   "source": [
    "<font color='tomato'>\n",
    "    <h2>Tensors are immutable - cannot update them, only create a new one</h2>\n",
    "</font>"
   ]
  },
  {
   "cell_type": "markdown",
   "metadata": {},
   "source": [
    "# Basic Tensors"
   ]
  },
  {
   "cell_type": "markdown",
   "metadata": {},
   "source": [
    "### Different terminology used for - but they are all tensors\n",
    "* **scalar** - a single value\n",
    "* **vector**: a number with direction (e.g. wind speed with direction).\n",
    "* **matrix**: a 2-dimensional array of numbers.\n",
    "* **tensor**: an n-dimensional arrary of numbers (where n can be any number, a 0-dimension tensor is a scalar, a 1-dimension tensor is a vector). \n",
    "![difference between scalar, vector, matrix, tensor](../datasets/tensor-images.png)"
   ]
  },
  {
   "cell_type": "markdown",
   "metadata": {},
   "source": [
    "### Zero rank tensor (constant)"
   ]
  },
  {
   "cell_type": "code",
   "execution_count": null,
   "metadata": {},
   "outputs": [],
   "source": [
    "# data type is int32\n",
    "\n",
    "rankZero = tf.constant(10)\n",
    "\n",
    "rankZero"
   ]
  },
  {
   "cell_type": "markdown",
   "metadata": {},
   "source": [
    "### Rank 1 tensor (vector)"
   ]
  },
  {
   "cell_type": "code",
   "execution_count": null,
   "metadata": {},
   "outputs": [],
   "source": [
    "# data type is float32\n",
    "rankOne = tf.constant([0.0, 1.0, 1.0, 2.0, 3.0, 5.0, 8.0, 13.0, 21.0, 34.0])\n",
    "\n",
    "print(rankOne)\n",
    "\n",
    "rankOne"
   ]
  },
  {
   "cell_type": "markdown",
   "metadata": {},
   "source": [
    "### Rank 2 tensor (matrix) - has 2 axes"
   ]
  },
  {
   "cell_type": "code",
   "execution_count": null,
   "metadata": {},
   "outputs": [],
   "source": [
    "rankTwo = tf.constant([[1, 2], [3, 4], [5, 6]], dtype=tf.float64)\n",
    "print(rankTwo)"
   ]
  },
  {
   "cell_type": "markdown",
   "metadata": {},
   "source": [
    "### Tensor with 3 axes (dimensions)"
   ]
  },
  {
   "cell_type": "code",
   "execution_count": null,
   "metadata": {},
   "outputs": [],
   "source": [
    "rankThree = tf.constant([\n",
    "  [[10, 11, 12, 13, 14],\n",
    "   [15, 16, 17, 18, 19]],\n",
    "  [[20, 21, 22, 23, 24],\n",
    "   [25, 26, 27, 28, 29]],\n",
    "  [[30, 31, 32, 33, 34],\n",
    "   [35, 36, 37, 38, 39]],])\n",
    "\n",
    "print(rankThree)"
   ]
  },
  {
   "cell_type": "markdown",
   "metadata": {},
   "source": [
    "### Convert Tensor to NumPy array (Couple of ways)"
   ]
  },
  {
   "cell_type": "code",
   "execution_count": null,
   "metadata": {},
   "outputs": [],
   "source": [
    "rankThree.numpy()"
   ]
  },
  {
   "cell_type": "code",
   "execution_count": null,
   "metadata": {},
   "outputs": [],
   "source": [
    "a = np.array(rankThree)\n",
    "print(type(a))"
   ]
  },
  {
   "cell_type": "code",
   "execution_count": null,
   "metadata": {},
   "outputs": [],
   "source": [
    "a"
   ]
  },
  {
   "cell_type": "markdown",
   "metadata": {},
   "source": [
    "# tf.Tensor<br>\n",
    "<font color='gray'>\n",
    "\n",
    "<span style=\"font-family:Arial; font-size:1.4em;\">\n",
    "    <ul>\n",
    "        <li>tf.Tensor class used in many datasets requires the tensors to be rectangular - along each axis, every element is the same size</li>\n",
    "        <li>tf.Tensor supports addition, element-wise multiplication and matrix multiplication</li>\n",
    "    </ul>\n",
    "    </span>\n",
    "</font>"
   ]
  },
  {
   "cell_type": "code",
   "execution_count": null,
   "metadata": {},
   "outputs": [],
   "source": [
    "x = tf.constant([[1, 2], [3, 4]])\n",
    "x"
   ]
  },
  {
   "cell_type": "code",
   "execution_count": null,
   "metadata": {},
   "outputs": [],
   "source": [
    "y = tf.constant([[5, 6], [7, 8]])\n",
    "y"
   ]
  },
  {
   "cell_type": "code",
   "execution_count": null,
   "metadata": {},
   "outputs": [],
   "source": [
    "print(tf.add(x, y), \"\\n\")\n",
    "print(tf.multiply(x, y), \"\\n\")\n",
    "\n",
    "# R1C1 ((1 * 5) + (2 * 7)), R1C2 ((1 * 6) + (2 * 8)) , R2C1, R2C2\n",
    "print(tf.matmul(x, y), \"\\n\")"
   ]
  },
  {
   "cell_type": "code",
   "execution_count": null,
   "metadata": {},
   "outputs": [],
   "source": [
    "z = tf.constant([[4.0, 5.0], [10.0, 1.0]])\n",
    "print(z)"
   ]
  },
  {
   "cell_type": "code",
   "execution_count": null,
   "metadata": {},
   "outputs": [],
   "source": [
    "# find the index of max value\n",
    "print(tf.argmax(z))"
   ]
  },
  {
   "cell_type": "code",
   "execution_count": null,
   "metadata": {},
   "outputs": [],
   "source": [
    "# Find the largest value\n",
    "print(tf.reduce_max(z))"
   ]
  },
  {
   "cell_type": "markdown",
   "metadata": {},
   "source": [
    "# Tensor Shapes<br>\n",
    "<font color='gray'>\n",
    "\n",
    "<span style=\"font-family:Arial; font-size:1.4em;\">\n",
    "    <ul>\n",
    "        <li><b>Shape: </b>The length (number of elements) of each of the dimensions of a tensor</li>\n",
    "        <li><b>Rank: </b>Number of tensor dimensions. A scalar has rank 0, a vector has rank 1, a matrix is rank 2</li>\n",
    "        <li><b>Dimension or Axis: </b>A particular dimension of a tensor</li>\n",
    "        <li><b>Size: </b>The total number of items in the tensor, the product shape vector</li>\n",
    "    </ul>\n",
    "    Tensors and tf.TensorShape provide useful properties for accessing information\n",
    "    </span>\n",
    "</font>"
   ]
  },
  {
   "cell_type": "code",
   "execution_count": null,
   "metadata": {},
   "outputs": [],
   "source": [
    "# 4 dimension tensor initialized to zeros\n",
    "rankFour = tf.zeros([3, 2, 4, 5])"
   ]
  },
  {
   "cell_type": "code",
   "execution_count": null,
   "metadata": {},
   "outputs": [],
   "source": [
    "print(\"Type of every element:\", rankFour.dtype)\n",
    "print(\"Number of dimensions:\", rankFour.ndim)\n",
    "print(\"Shape of tensor:\", rankFour.shape)\n",
    "print(\"Elements along axis 0 of tensor:\", rankFour.shape[0])\n",
    "print(\"Elements along the last axis of tensor:\", rankFour.shape[-1])\n",
    "print(\"Total number of elements (3*2*4*5): \", tf.size(rankFour))\n",
    "print(\"Total number of elements (3*2*4*5): \", tf.size(rankFour).numpy())"
   ]
  },
  {
   "cell_type": "markdown",
   "metadata": {},
   "source": [
    "# Tensor Indexing<br>\n",
    "<font color='gray'>\n",
    "\n",
    "<span style=\"font-family:Arial; font-size:1.4em;\">\n",
    "    <ul>\n",
    "        <li>Zero based indexing</li>\n",
    "        <li>Can use negative indexing (counts backwards), starts with -1</li>\n",
    "        <li>Just like python list use colons <i>start:stop:step</i></li>\n",
    "    </ul>\n",
    "    </span>\n",
    "</font>"
   ]
  },
  {
   "cell_type": "markdown",
   "metadata": {},
   "source": [
    "### Single dimension indexing"
   ]
  },
  {
   "cell_type": "code",
   "execution_count": null,
   "metadata": {},
   "outputs": [],
   "source": [
    "print(rankOne.numpy())"
   ]
  },
  {
   "cell_type": "code",
   "execution_count": null,
   "metadata": {},
   "outputs": [],
   "source": [
    "print(\"First:\", rankOne[0].numpy())\n",
    "print(\"Second:\", rankOne[1].numpy())\n",
    "print(\"Last:\", rankOne[-1].numpy())"
   ]
  },
  {
   "cell_type": "code",
   "execution_count": null,
   "metadata": {
    "scrolled": true
   },
   "outputs": [],
   "source": [
    "# like python list slicing\n",
    "print(\"Everything:\", rankOne[:].numpy())\n",
    "print(\"Before 4:\", rankOne[:4].numpy())\n",
    "print(\"From 4 to the end:\", rankOne[4:].numpy())\n",
    "print(\"From 2, before 7:\", rankOne[2:7].numpy())\n",
    "print(\"Every other item:\", rankOne[::2].numpy())\n",
    "print(\"Reversed:\", rankOne[::-1].numpy())"
   ]
  },
  {
   "cell_type": "markdown",
   "metadata": {},
   "source": [
    "### Multi dimension/axis indexing"
   ]
  },
  {
   "cell_type": "code",
   "execution_count": null,
   "metadata": {},
   "outputs": [],
   "source": [
    "print(rankTwo.numpy())"
   ]
  },
  {
   "cell_type": "code",
   "execution_count": null,
   "metadata": {},
   "outputs": [],
   "source": [
    "# Get single value from a 2-rank tensor\n",
    "print(rankTwo[1, 1].numpy())"
   ]
  },
  {
   "cell_type": "code",
   "execution_count": null,
   "metadata": {},
   "outputs": [],
   "source": [
    "print(\"Second row:\", rankTwo[1, :].numpy())\n",
    "print(\"Second column:\", rankTwo[:, 1].numpy())\n",
    "print(\"Last row:\", rankTwo[-1, :].numpy())\n",
    "print(\"First item in last column:\", rankTwo[0, -1].numpy())\n",
    "print(\"Skip the first row:\")\n",
    "print(rankTwo[1:, :].numpy(), \"\\n\")"
   ]
  },
  {
   "cell_type": "code",
   "execution_count": null,
   "metadata": {},
   "outputs": [],
   "source": [
    "print(rankThree.numpy())"
   ]
  },
  {
   "cell_type": "code",
   "execution_count": null,
   "metadata": {},
   "outputs": [],
   "source": [
    "# rankThree is (3 x 2 x 5) tensor\n",
    "# All values at index 4 of the last axis is printed\n",
    "print(rankThree[:, :, 4])"
   ]
  },
  {
   "cell_type": "markdown",
   "metadata": {},
   "source": [
    "## Manipulating Shape\n",
    "### Reshaping is very useful especially when handling images, texts data\n",
    "#### tf.reshape is very fast and cheap operation as the data does not need to be duplicated"
   ]
  },
  {
   "cell_type": "markdown",
   "metadata": {},
   "source": [
    "# Manipulating Shape<br>\n",
    "<font color='gray'>\n",
    "\n",
    "<span style=\"font-family:Arial; font-size:1.4em;\">\n",
    "    <ul>\n",
    "        <li>Reshaping is very useful especially when handling images, texts data</li>\n",
    "        <li><i><b>tf.reshape</b></i> is very fast and cheap operation as the data does not need to be duplicated</li>\n",
    "        <li>The data maintains its layout in memory and a new tensor is created, with the requested shape, pointing to the same data</li>\n",
    "    </ul>\n",
    "    </span>\n",
    "</font>"
   ]
  },
  {
   "cell_type": "code",
   "execution_count": null,
   "metadata": {},
   "outputs": [],
   "source": [
    "# Shape returns a `TensorShape` object that shows the size on each dimension\n",
    "x = tf.constant([[1], [2], [3]])\n",
    "print(x.shape)"
   ]
  },
  {
   "cell_type": "code",
   "execution_count": null,
   "metadata": {},
   "outputs": [],
   "source": [
    "x.numpy()"
   ]
  },
  {
   "cell_type": "code",
   "execution_count": null,
   "metadata": {},
   "outputs": [],
   "source": [
    "# You can convert this object into a Python list, too\n",
    "print(x.shape.as_list())"
   ]
  },
  {
   "cell_type": "code",
   "execution_count": null,
   "metadata": {},
   "outputs": [],
   "source": [
    "# You can reshape a tensor to a new shape.\n",
    "# Note that you're passing in a list\n",
    "reshaped = tf.reshape(x, [1, 3])"
   ]
  },
  {
   "cell_type": "code",
   "execution_count": null,
   "metadata": {},
   "outputs": [],
   "source": [
    "print(x.shape)\n",
    "print(reshaped.shape)"
   ]
  },
  {
   "cell_type": "code",
   "execution_count": null,
   "metadata": {},
   "outputs": [],
   "source": [
    "reshaped.numpy()"
   ]
  },
  {
   "cell_type": "code",
   "execution_count": null,
   "metadata": {},
   "outputs": [],
   "source": [
    "print(rankThree)"
   ]
  },
  {
   "cell_type": "code",
   "execution_count": null,
   "metadata": {},
   "outputs": [],
   "source": [
    "# `-1` passed in the `shape` argument says \"Whatever fits\"\n",
    "# Flatten the tensor\n",
    "print(tf.reshape(rankThree, [-1]))"
   ]
  },
  {
   "cell_type": "code",
   "execution_count": null,
   "metadata": {},
   "outputs": [],
   "source": [
    "# reshape to (3x2)x5\n",
    "print(tf.reshape(rankThree, [6, 5]), \"\\n\")"
   ]
  },
  {
   "cell_type": "code",
   "execution_count": null,
   "metadata": {},
   "outputs": [],
   "source": [
    "# reshape to 3x(2x5)\n",
    "print(tf.reshape(rankThree, [3, -1]))"
   ]
  },
  {
   "cell_type": "markdown",
   "metadata": {},
   "source": [
    "# Typical TensorFlow operations for machine/deep learning"
   ]
  },
  {
   "cell_type": "markdown",
   "metadata": {},
   "source": [
    "## Squeezing Tensor (remove all single dimensions)\n",
    "To remove all dimensions with size of 1, use:\n",
    "- `tf.squeeze()`"
   ]
  },
  {
   "cell_type": "code",
   "execution_count": null,
   "metadata": {},
   "outputs": [],
   "source": [
    "# create a rank 5 tensor (5 dimensions) of 50 numbers between 0 and 100\n",
    "tf.random.set_seed(2345)\n",
    "multidim = tf.constant(np.random.randint(0, 100, 50), shape = (1, 1, 1, 1, 50))\n",
    "multidim.ndim, multidim.shape"
   ]
  },
  {
   "cell_type": "code",
   "execution_count": null,
   "metadata": {},
   "outputs": [],
   "source": [
    "multidim.numpy()"
   ]
  },
  {
   "cell_type": "code",
   "execution_count": null,
   "metadata": {},
   "outputs": [],
   "source": [
    "print(multidim.numpy())"
   ]
  },
  {
   "cell_type": "code",
   "execution_count": null,
   "metadata": {},
   "outputs": [],
   "source": [
    "# Squeeze the tensor to remove all single dimensions)\n",
    "multidimSqueezed = tf.squeeze(multidim)\n",
    "multidimSqueezed.ndim, multidimSqueezed.shape"
   ]
  },
  {
   "cell_type": "code",
   "execution_count": null,
   "metadata": {},
   "outputs": [],
   "source": [
    "multidimSqueezed.numpy()"
   ]
  },
  {
   "cell_type": "markdown",
   "metadata": {},
   "source": [
    "## Adding dimension (couple of ways)\n",
    "- `tf.expand_dims`: can be used to add a dimension to a tensor\n",
    "- `tf.newaxis`: similar to numpy newaxis "
   ]
  },
  {
   "cell_type": "code",
   "execution_count": null,
   "metadata": {},
   "outputs": [],
   "source": [
    "rankTwo"
   ]
  },
  {
   "cell_type": "code",
   "execution_count": null,
   "metadata": {},
   "outputs": [],
   "source": [
    "# using expand_dims\n",
    "# can use -1 for last axis\n",
    "tf.expand_dims(rankTwo, axis = 1)"
   ]
  },
  {
   "cell_type": "code",
   "execution_count": null,
   "metadata": {},
   "outputs": [],
   "source": [
    "# use third dimension\n",
    "tf.expand_dims(rankTwo, axis = 2)"
   ]
  },
  {
   "cell_type": "code",
   "execution_count": null,
   "metadata": {},
   "outputs": [],
   "source": [
    "# using newaxis\n",
    "# ... in python means \"all dimensions prior to\"\n",
    "rankTwo[..., tf.newaxis]"
   ]
  },
  {
   "cell_type": "markdown",
   "metadata": {},
   "source": [
    "## Changing data type\n",
    "- Many times the datatypes required in deep learning has to be of type float32 for efficient calculations\n",
    "- Numpy usually creates by default float64 (they consume a lot more compute resources)\n",
    "- Convert the tensor datatype using `tf.cast`"
   ]
  },
  {
   "cell_type": "code",
   "execution_count": null,
   "metadata": {},
   "outputs": [],
   "source": [
    "rankTwo.dtype"
   ]
  },
  {
   "cell_type": "code",
   "execution_count": null,
   "metadata": {},
   "outputs": [],
   "source": [
    "t = tf.cast(rankTwo, dtype = tf.float32)\n",
    "t"
   ]
  },
  {
   "cell_type": "markdown",
   "metadata": {},
   "source": [
    "## One-hot encoding\n",
    "- Often output variable might be categorical and you might want to one hot encode it using `tf.one_hot()`\n",
    "- `depth` parameter can be used to define the level to which you want to one how encode"
   ]
  },
  {
   "cell_type": "code",
   "execution_count": null,
   "metadata": {},
   "outputs": [],
   "source": [
    "# create a list of indices\n",
    "alist = [0, 1, 2]\n",
    "tf.one_hot(alist, depth = 3)"
   ]
  },
  {
   "cell_type": "code",
   "execution_count": null,
   "metadata": {},
   "outputs": [],
   "source": [
    "alist = [0, 1, 2, 3, 4, 5, 6]\n",
    "tf.one_hot(alist, depth = 3)"
   ]
  },
  {
   "cell_type": "code",
   "execution_count": null,
   "metadata": {},
   "outputs": [],
   "source": [
    "alist = [0, 1, 2, 3, 4, 5, 6]\n",
    "tf.one_hot(alist, depth = 7)"
   ]
  },
  {
   "cell_type": "code",
   "execution_count": null,
   "metadata": {},
   "outputs": [],
   "source": [
    "alist = [4, 5, 6, 1, 2, 3]\n",
    "tf.one_hot(alist, depth = 3)"
   ]
  },
  {
   "cell_type": "code",
   "execution_count": null,
   "metadata": {},
   "outputs": [],
   "source": [
    "alist = [4, 5, 6, 1, 2, 3]\n",
    "tf.one_hot(alist, depth = 4)"
   ]
  },
  {
   "cell_type": "markdown",
   "metadata": {},
   "source": [
    "Can provide `on_value` and `off_value` parameters instead of `0` and `1`"
   ]
  },
  {
   "cell_type": "code",
   "execution_count": null,
   "metadata": {},
   "outputs": [],
   "source": [
    "alist = [0, 1, 2, 3]\n",
    "tf.one_hot(alist, depth = 4, on_value = \"Present\", off_value = \"Absent\")"
   ]
  },
  {
   "cell_type": "markdown",
   "metadata": {},
   "source": [
    "## Square, Square Root and Log\n",
    "Common operations that can be performed on tensors\n",
    "- `tf.square()` - get square of every value in a tensor\n",
    "- `tf.sqrt()` - get square root of every value in a tensor (must be `floats` else error)\n",
    "- `tf.math.log()` - get natural log for every value in a tensor (must be `floats` else error)"
   ]
  },
  {
   "cell_type": "code",
   "execution_count": null,
   "metadata": {},
   "outputs": [],
   "source": [
    "# create a tensor\n",
    "tnsr = tf.constant(np.arange(1, 10))\n",
    "tnsr"
   ]
  },
  {
   "cell_type": "code",
   "execution_count": null,
   "metadata": {},
   "outputs": [],
   "source": [
    "# square\n",
    "tf.square(tnsr)"
   ]
  },
  {
   "cell_type": "code",
   "execution_count": null,
   "metadata": {},
   "outputs": [],
   "source": [
    "# square root - make sure that the type is float\n",
    "tf.sqrt((tf.cast(tnsr, dtype = tf.float32)))"
   ]
  },
  {
   "cell_type": "code",
   "execution_count": null,
   "metadata": {},
   "outputs": [],
   "source": [
    "# natural log\n",
    "tf.math.log((tf.cast(tnsr, dtype = tf.float32)))"
   ]
  },
  {
   "cell_type": "markdown",
   "metadata": {},
   "source": [
    "## Using `@tf.function`\n",
    "Similar to the python decorators [python decorators guide](https://realpython.com/primer-on-python-decorators/), decorators modify a function in one way or another\n",
    "\n",
    "Using `@tf.function` converts a python function into a callable graph.\n",
    "\n",
    "For more info, [Better performance with tf.function](https://www.tensorflow.org/guide/function)\n",
    "\n"
   ]
  },
  {
   "cell_type": "code",
   "execution_count": null,
   "metadata": {},
   "outputs": [],
   "source": [
    "# python function\n",
    "def aFunction(x, y):\n",
    "    return x ** 2 + (3 * y) + 10.0"
   ]
  },
  {
   "cell_type": "code",
   "execution_count": null,
   "metadata": {},
   "outputs": [],
   "source": [
    "num1 = tf.constant(np.arange(0.0, 10.0))\n",
    "num2 = tf.constant(np.arange(10.0, 20.0))\n",
    "num1, num2"
   ]
  },
  {
   "cell_type": "code",
   "execution_count": null,
   "metadata": {},
   "outputs": [],
   "source": [
    "%%time\n",
    "aFunction(num1, num2)"
   ]
  },
  {
   "cell_type": "code",
   "execution_count": null,
   "metadata": {},
   "outputs": [],
   "source": [
    "# Create the same function and decorate it with tf.function\n",
    "@tf.function\n",
    "def tf_function(x, y):\n",
    "    return x ** 2 + (3 * y) + 10.0"
   ]
  },
  {
   "cell_type": "code",
   "execution_count": null,
   "metadata": {},
   "outputs": [],
   "source": [
    "%%time\n",
    "tf_function(num1, num2)"
   ]
  },
  {
   "cell_type": "markdown",
   "metadata": {},
   "source": [
    "- The two functions above are the same, one is decorated and the other one is not\n",
    "- Much on the difference is behind the scenes, `flow` part of the tensor flow comes in when using @tf.function"
   ]
  },
  {
   "cell_type": "code",
   "execution_count": null,
   "metadata": {},
   "outputs": [],
   "source": [
    "# check if a GPU is available on the machine\n",
    "print(tf.config.list_physical_devices('GPU'))"
   ]
  },
  {
   "cell_type": "code",
   "execution_count": null,
   "metadata": {},
   "outputs": [],
   "source": [
    "# list all devices on machines\n",
    "tf.config.list_physical_devices()"
   ]
  }
 ],
 "metadata": {
  "kernelspec": {
   "display_name": "Python 3 (ipykernel)",
   "language": "python",
   "name": "python3"
  },
  "language_info": {
   "codemirror_mode": {
    "name": "ipython",
    "version": 3
   },
   "file_extension": ".py",
   "mimetype": "text/x-python",
   "name": "python",
   "nbconvert_exporter": "python",
   "pygments_lexer": "ipython3",
   "version": "3.9.13"
  },
  "toc": {
   "base_numbering": 1,
   "nav_menu": {
    "height": "518px",
    "width": "697px"
   },
   "number_sections": false,
   "sideBar": true,
   "skip_h1_title": false,
   "title_cell": "Table of Contents",
   "title_sidebar": "Contents",
   "toc_cell": false,
   "toc_position": {},
   "toc_section_display": true,
   "toc_window_display": false
  }
 },
 "nbformat": 4,
 "nbformat_minor": 4
}
